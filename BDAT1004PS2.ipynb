{
 "cells": [
  {
   "cell_type": "code",
   "execution_count": 69,
   "id": "ee56f336",
   "metadata": {},
   "outputs": [
    {
     "name": "stdout",
     "output_type": "stream",
     "text": [
      "Requirement already satisfied: ipython-sql in c:\\users\\user\\anaconda3\\lib\\site-packages (0.5.0)\n",
      "Requirement already satisfied: prettytable in c:\\users\\user\\anaconda3\\lib\\site-packages (from ipython-sql) (3.8.0)\n",
      "Requirement already satisfied: sqlparse in c:\\users\\user\\anaconda3\\lib\\site-packages (from ipython-sql) (0.4.4)\n",
      "Requirement already satisfied: six in c:\\users\\user\\anaconda3\\lib\\site-packages (from ipython-sql) (1.16.0)\n",
      "Requirement already satisfied: ipython-genutils in c:\\users\\user\\anaconda3\\lib\\site-packages (from ipython-sql) (0.2.0)\n",
      "Requirement already satisfied: sqlalchemy>=2.0 in c:\\users\\user\\anaconda3\\lib\\site-packages (from ipython-sql) (2.0.18)\n",
      "Requirement already satisfied: ipython in c:\\users\\user\\anaconda3\\lib\\site-packages (from ipython-sql) (8.10.0)\n",
      "Requirement already satisfied: typing-extensions>=4.2.0 in c:\\users\\user\\anaconda3\\lib\\site-packages (from sqlalchemy>=2.0->ipython-sql) (4.4.0)\n",
      "Requirement already satisfied: greenlet!=0.4.17 in c:\\users\\user\\anaconda3\\lib\\site-packages (from sqlalchemy>=2.0->ipython-sql) (2.0.1)\n",
      "Requirement already satisfied: traitlets>=5 in c:\\users\\user\\anaconda3\\lib\\site-packages (from ipython->ipython-sql) (5.7.1)\n",
      "Requirement already satisfied: prompt-toolkit<3.1.0,>=3.0.30 in c:\\users\\user\\anaconda3\\lib\\site-packages (from ipython->ipython-sql) (3.0.36)\n",
      "Requirement already satisfied: pygments>=2.4.0 in c:\\users\\user\\anaconda3\\lib\\site-packages (from ipython->ipython-sql) (2.11.2)\n",
      "Requirement already satisfied: matplotlib-inline in c:\\users\\user\\anaconda3\\lib\\site-packages (from ipython->ipython-sql) (0.1.6)\n",
      "Requirement already satisfied: stack-data in c:\\users\\user\\anaconda3\\lib\\site-packages (from ipython->ipython-sql) (0.2.0)\n",
      "Requirement already satisfied: backcall in c:\\users\\user\\anaconda3\\lib\\site-packages (from ipython->ipython-sql) (0.2.0)\n",
      "Requirement already satisfied: colorama in c:\\users\\user\\anaconda3\\lib\\site-packages (from ipython->ipython-sql) (0.4.6)\n",
      "Requirement already satisfied: pickleshare in c:\\users\\user\\anaconda3\\lib\\site-packages (from ipython->ipython-sql) (0.7.5)\n",
      "Requirement already satisfied: decorator in c:\\users\\user\\anaconda3\\lib\\site-packages (from ipython->ipython-sql) (5.1.1)\n",
      "Requirement already satisfied: jedi>=0.16 in c:\\users\\user\\anaconda3\\lib\\site-packages (from ipython->ipython-sql) (0.18.1)\n",
      "Requirement already satisfied: wcwidth in c:\\users\\user\\anaconda3\\lib\\site-packages (from prettytable->ipython-sql) (0.2.5)\n",
      "Requirement already satisfied: parso<0.9.0,>=0.8.0 in c:\\users\\user\\anaconda3\\lib\\site-packages (from jedi>=0.16->ipython->ipython-sql) (0.8.3)\n",
      "Requirement already satisfied: pure-eval in c:\\users\\user\\anaconda3\\lib\\site-packages (from stack-data->ipython->ipython-sql) (0.2.2)\n",
      "Requirement already satisfied: executing in c:\\users\\user\\anaconda3\\lib\\site-packages (from stack-data->ipython->ipython-sql) (0.8.3)\n",
      "Requirement already satisfied: asttokens in c:\\users\\user\\anaconda3\\lib\\site-packages (from stack-data->ipython->ipython-sql) (2.0.5)\n"
     ]
    }
   ],
   "source": [
    "!pip install ipython-sql"
   ]
  },
  {
   "cell_type": "code",
   "execution_count": 73,
   "id": "7c8c95a9",
   "metadata": {},
   "outputs": [
    {
     "name": "stdout",
     "output_type": "stream",
     "text": [
      "2\n",
      "4\n",
      "6\n",
      "6\n"
     ]
    }
   ],
   "source": [
    "#Q1\n",
    "a = 0\n",
    "def b():\n",
    "    global a\n",
    "    a = c(a)\n",
    "    return a\n",
    "    \n",
    "\n",
    "def c(a):\n",
    "    return a + 2\n",
    "    \n",
    "print(b())\n",
    "print(b())\n",
    "print(b())\n",
    "print(a)\n",
    "\n",
    "\"\"\"Explanation\n",
    "1. a is a global variable\n",
    "2. The initial value of a is 0\n",
    "3. When print(b()) is ran the 1st time, a is the input for function c thereby making a = 2(return a + 2).print(b()) give a value of 2.\n",
    "4. When print(b()) is ran the 2nd time, step 3 is ran again,a=2 already then becomes a = 4(return a + 2). print(b()) give a value of 4.\n",
    "5. When print(b()) is ran the 3rd time, step 3 is ran again,a=4 already then becomes a = 6(return a + 2). print(b()) give a value of 6.\n",
    "6. When print(a) is then ran, it gives a value of 6 which is already stored in the computer memory.\n",
    "\n",
    "In conclusion, a is always going to be equal to b.\"\"\""
   ]
  },
  {
   "cell_type": "code",
   "execution_count": 98,
   "id": "5a75dcbb",
   "metadata": {},
   "outputs": [
    {
     "name": "stdout",
     "output_type": "stream",
     "text": [
      "Enter file path or name: \n",
      "C:\\Users\\user\\Downloads\\BDAT\\BDAT 1004\\Assignment\\Problem Set 2\\Filelength.txt\n",
      "123\n",
      "<_io.TextIOWrapper name='C:\\\\Users\\\\user\\\\Downloads\\\\BDAT\\\\BDAT 1004\\\\Assignment\\\\Problem Set 2\\\\Filelength.txt' mode='r' encoding='cp1252'>\n"
     ]
    }
   ],
   "source": [
    "#Q2\n",
    "try:\n",
    "    print(\"Enter file path or name: \")\n",
    "    file = open(input())\n",
    "    contents = file.read()\n",
    "    file.close()\n",
    "    print(len(contents))\n",
    "    print(file)\n",
    "except:\n",
    "    print(\"File idterm.py not found.\")\n",
    "\n"
   ]
  },
  {
   "cell_type": "code",
   "execution_count": 120,
   "id": "c0d3714e",
   "metadata": {},
   "outputs": [
    {
     "name": "stdout",
     "output_type": "stream",
     "text": [
      "['doll', 'firetruck', 'kitten']\n",
      "I am a Kangaroo located at coordinates (0, 0)\n",
      "['doll', 'firetruck', 'kitten']\n",
      "I am a Kangaroo located at coordinates (3, 0)\n"
     ]
    }
   ],
   "source": [
    "#Q3\n",
    "class Marsupial:\n",
    "    'class that supports various methods'\n",
    "\n",
    "    \n",
    "    def __init__(self):\n",
    "        'instantiates an empty list'\n",
    "        self.q = []\n",
    "        \n",
    "    def put_in_pouch(self,item):\n",
    "        return self.q.append(item)\n",
    "\n",
    "    def pouch_contents(self):\n",
    "        return print(self.q)\n",
    "    def __str__(self):\n",
    "        return  str(self.q)\n",
    "    \n",
    "\n",
    "class Kangaroo(Marsupial):\n",
    "\n",
    "    def __init__(self,dx,dy):\n",
    "        'instantiates an empty list'\n",
    "        Marsupial.__init__(self) \n",
    "        self.dx=dx\n",
    "        self.dy=dy\n",
    "    \n",
    "        \n",
    "    def jump(self,dx,dy):\n",
    "        self.dx += dx\n",
    "        self.dy += dy\n",
    "        return {self.dx,self.dy}\n",
    "    \n",
    "    def __str__(self):\n",
    "        return f'I am a Kangaroo located at coordinates {(self.dx,self.dy)}'\n",
    "    \n",
    "m = Marsupial()\n",
    "m.put_in_pouch('doll')\n",
    "m.put_in_pouch('firetruck')\n",
    "m.put_in_pouch('kitten')\n",
    "m.pouch_contents() \n",
    "\n",
    "k = Kangaroo(0,0)\n",
    "print(k)\n",
    "k.put_in_pouch('doll')\n",
    "k.put_in_pouch('firetruck')\n",
    "k.put_in_pouch('kitten')\n",
    "k.pouch_contents()\n",
    "\n",
    "k.jump(1,0)\n",
    "k.jump(1,0)\n",
    "k.jump(1,0)\n",
    "print(k)"
   ]
  },
  {
   "cell_type": "code",
   "execution_count": 2,
   "id": "be4fc640",
   "metadata": {},
   "outputs": [
    {
     "name": "stdout",
     "output_type": "stream",
     "text": [
      "6\n",
      "3\n",
      "10\n",
      "5\n",
      "16\n",
      "8\n",
      "4\n",
      "2\n",
      "1\n"
     ]
    }
   ],
   "source": [
    "#Q4\n",
    "def collatz(y):\n",
    "    print(y)\n",
    "    if y == 1:\n",
    "        return\n",
    "    if y % 2 == 0:\n",
    "        collatz(y // 2)\n",
    "\n",
    "    else:\n",
    "        collatz(3*y + 1)\n",
    "\n",
    "collatz(6)"
   ]
  },
  {
   "cell_type": "code",
   "execution_count": 89,
   "id": "fbffabc1",
   "metadata": {},
   "outputs": [
    {
     "name": "stdout",
     "output_type": "stream",
     "text": [
      "1001"
     ]
    }
   ],
   "source": [
    "#Q5\n",
    "def binary(n):\n",
    "    if n < 1:\n",
    "        return n\n",
    "    else:\n",
    "        binary(n//2)\n",
    "      \n",
    "    print(n%2, end = '')\n",
    "        \n",
    "\n",
    "binary(9)\n"
   ]
  },
  {
   "cell_type": "code",
   "execution_count": 27,
   "id": "c11d6b59",
   "metadata": {},
   "outputs": [],
   "source": [
    "#Q8\n",
    "import sqlite3\n",
    "con = sqlite3.connect('meteorology.db')\n",
    "cur = con.cursor()\n",
    "con =  cur.execute(\"CREATE TABLE climate (CITY text, COUNTRY text, SEASON text, TEMPERATURE float, RAINFALL float)\" )\n",
    "rows = [('Mumbai','India','Winter',24.8,5.9),('Mumbai','India','Spring',28.4,16.2),('Mumbai','India','Summer',27.9,1549.4),('Mumbai','India','Fall',27.6,346.0),('London','United Kingdom','Winter',4.2,207.7),('London','United Kingdom','Spring',8.3,169.6),('London','United Kingdom','Summer',15.7,157.0),('London','United Kingdom','Fall',10.4,218.5),('Cairo','Egypt','Winter',13.6,16.5),('Cairo','Egypt','Spring',20.7,6.5),('Cairo','Egypt','Summer',27.7,0.1),('Cairo','Egypt','Fall',22.2,4.5)]\n",
    "\n",
    "for row in rows:\n",
    "    cur.execute (\"INSERT INTO climate VALUES (?,?,?,?,?)\",(row[0],row[1],row[2],row[3],row[4]))\n",
    "    "
   ]
  },
  {
   "cell_type": "code",
   "execution_count": 29,
   "id": "3fc082f6",
   "metadata": {},
   "outputs": [
    {
     "name": "stdout",
     "output_type": "stream",
     "text": [
      "[('Mumbai', 'India', 'Winter', 24.8, 5.9), ('Mumbai', 'India', 'Spring', 28.4, 16.2), ('Mumbai', 'India', 'Summer', 27.9, 1549.4), ('Mumbai', 'India', 'Fall', 27.6, 346.0), ('London', 'United Kingdom', 'Winter', 4.2, 207.7), ('London', 'United Kingdom', 'Spring', 8.3, 169.6), ('London', 'United Kingdom', 'Summer', 15.7, 157.0), ('London', 'United Kingdom', 'Fall', 10.4, 218.5), ('Cairo', 'Egypt', 'Winter', 13.6, 16.5), ('Cairo', 'Egypt', 'Spring', 20.7, 6.5), ('Cairo', 'Egypt', 'Summer', 27.7, 0.1), ('Cairo', 'Egypt', 'Fall', 22.2, 4.5)]\n"
     ]
    }
   ],
   "source": [
    "#Q8\n",
    "cur.execute(\"SELECT * FROM climate\")\n",
    "result=cur.fetchall()\n",
    "print(result)\n"
   ]
  },
  {
   "cell_type": "code",
   "execution_count": 34,
   "id": "ae5db8f9",
   "metadata": {},
   "outputs": [
    {
     "name": "stdout",
     "output_type": "stream",
     "text": [
      "(24.8,)\n",
      "(28.4,)\n",
      "(27.9,)\n",
      "(27.6,)\n",
      "(4.2,)\n",
      "(8.3,)\n",
      "(15.7,)\n",
      "(10.4,)\n",
      "(13.6,)\n",
      "(20.7,)\n",
      "(27.7,)\n",
      "(22.2,)\n"
     ]
    }
   ],
   "source": [
    "#Q8a\n",
    "cur.execute(\"SELECT temperature FROM climate\")\n",
    "for temp in cur:\n",
    "    print(temp)"
   ]
  },
  {
   "cell_type": "code",
   "execution_count": 36,
   "id": "dfe9ba1f",
   "metadata": {},
   "outputs": [
    {
     "name": "stdout",
     "output_type": "stream",
     "text": [
      "('Mumbai',)\n",
      "('London',)\n",
      "('Cairo',)\n"
     ]
    }
   ],
   "source": [
    "#Q8b\n",
    "cur.execute(\"SELECT DISTINCT CITY FROM climate\")\n",
    "for cities in cur:\n",
    "    print(cities)"
   ]
  },
  {
   "cell_type": "code",
   "execution_count": 80,
   "id": "b276749d",
   "metadata": {},
   "outputs": [
    {
     "name": "stdout",
     "output_type": "stream",
     "text": [
      "('Mumbai', 'India', 'Winter', 24.8, 5.9)\n",
      "('Mumbai', 'India', 'Spring', 28.4, 16.2)\n",
      "('Mumbai', 'India', 'Summer', 27.9, 1549.4)\n",
      "('Mumbai', 'India', 'Fall', 27.6, 346.0)\n"
     ]
    }
   ],
   "source": [
    "#Q8c\n",
    "cur.execute(\"SELECT * FROM climate WHERE country = 'India'\")\n",
    "\n",
    "for z in cur:\n",
    "    print(z)"
   ]
  },
  {
   "cell_type": "code",
   "execution_count": 79,
   "id": "fe2cb49a",
   "metadata": {},
   "outputs": [
    {
     "name": "stdout",
     "output_type": "stream",
     "text": [
      "('Mumbai', 'India', 'Fall', 27.6, 346.0)\n",
      "('London', 'United Kingdom', 'Fall', 10.4, 218.5)\n",
      "('Cairo', 'Egypt', 'Fall', 22.2, 4.5)\n"
     ]
    }
   ],
   "source": [
    "#Q8d\n",
    "cur.execute(\"SELECT * FROM climate WHERE season = 'Fall'\")\n",
    "\n",
    "for fal in cur:\n",
    "    print(fal)"
   ]
  },
  {
   "cell_type": "code",
   "execution_count": 58,
   "id": "3949a839",
   "metadata": {},
   "outputs": [
    {
     "name": "stdout",
     "output_type": "stream",
     "text": [
      "('Mumbai', 'India', 'Fall', 346.0)\n",
      "('London', 'United Kingdom', 'Winter', 207.7)\n",
      "('London', 'United Kingdom', 'Fall', 218.5)\n"
     ]
    }
   ],
   "source": [
    "#Q8e\n",
    "cur.execute(\"SELECT city, country, season, rainfall FROM climate WHERE rainfall BETWEEN 200 AND 400 \")\n",
    "for e in cur:\n",
    "    print(e)"
   ]
  },
  {
   "cell_type": "code",
   "execution_count": 62,
   "id": "f5b6d198",
   "metadata": {},
   "outputs": [
    {
     "name": "stdout",
     "output_type": "stream",
     "text": [
      "('Cairo', 'Egypt', 22.2)\n",
      "('Mumbai', 'India', 27.6)\n"
     ]
    }
   ],
   "source": [
    "#Q8f\n",
    "cur.execute(\"SELECT city, country, temperature FROM climate WHERE season='Fall' AND temperature > 20 ORDER BY TEMPERATURE ASC\")\n",
    "for e in cur:\n",
    "    print(e)"
   ]
  },
  {
   "cell_type": "code",
   "execution_count": 78,
   "id": "a419f253",
   "metadata": {},
   "outputs": [
    {
     "name": "stdout",
     "output_type": "stream",
     "text": [
      "(27.6,)\n"
     ]
    }
   ],
   "source": [
    "#Q8g\n",
    "cur.execute(\"SELECT sum(rainfall) FROM climate WHERE city='Cairo'\")\n",
    "for e in cur:\n",
    "    print(e)"
   ]
  },
  {
   "cell_type": "code",
   "execution_count": 72,
   "id": "6fb18395",
   "metadata": {},
   "outputs": [
    {
     "name": "stdout",
     "output_type": "stream",
     "text": [
      "('Fall', 569.0)\n",
      "('Spring', 192.29999999999998)\n",
      "('Summer', 1706.5)\n",
      "('Winter', 230.1)\n"
     ]
    }
   ],
   "source": [
    "#8h\n",
    "cur.execute(\"SELECT season,sum(rainfall) FROM climate group by season\")\n",
    "for e in cur:\n",
    "    print(e)"
   ]
  },
  {
   "cell_type": "code",
   "execution_count": 30,
   "id": "e3cdf59e",
   "metadata": {},
   "outputs": [
    {
     "name": "stdout",
     "output_type": "stream",
     "text": [
      "['THE', 'QUICK', 'BROWN', 'FOX', 'JUMPS', 'OVER', 'THE', 'LAZY', 'DOG']\n",
      "['the', 'quick', 'brown', 'fox', 'jumps', 'over', 'the', 'lazy', 'dog']\n",
      "[3, 5, 5, 3, 5, 4, 3, 4, 3]\n",
      "[['THE', 'the', 3], ['QUICK', 'quick', 5], ['BROWN', 'brown', 5], ['FOX', 'fox', 3], ['JUMPS', 'jumps', 5], ['OVER', 'over', 4], ['THE', 'the', 3], ['LAZY', 'lazy', 4], ['DOG', 'dog', 3]]\n",
      "['quick', 'brown', 'jumps', 'over', 'lazy']\n"
     ]
    }
   ],
   "source": [
    "#9\n",
    "words = ['The', 'quick', 'brown', 'fox', 'jumps', 'over','the', 'lazy', 'dog']\n",
    "\n",
    "wordsUpper = [item.upper() for item in words]\n",
    "wordsLower = [item.lower() for item in words]\n",
    "wordLength = [len(item) for item in words]\n",
    "wordCombo = [[item.upper(),item.lower(),len(item)] for item in words]\n",
    "words4 = []\n",
    "for item in words:\n",
    "    if len(item) >= 4:\n",
    "        words4+=[item]\n",
    "    \n",
    "\n",
    "print(wordsUpper)\n",
    "print(wordsLower)\n",
    "print(wordLength)\n",
    "print(wordCombo)\n",
    "print(words4)"
   ]
  },
  {
   "cell_type": "code",
   "execution_count": null,
   "id": "c9162103",
   "metadata": {},
   "outputs": [],
   "source": []
  }
 ],
 "metadata": {
  "kernelspec": {
   "display_name": "Python 3 (ipykernel)",
   "language": "python",
   "name": "python3"
  },
  "language_info": {
   "codemirror_mode": {
    "name": "ipython",
    "version": 3
   },
   "file_extension": ".py",
   "mimetype": "text/x-python",
   "name": "python",
   "nbconvert_exporter": "python",
   "pygments_lexer": "ipython3",
   "version": "3.10.9"
  }
 },
 "nbformat": 4,
 "nbformat_minor": 5
}
